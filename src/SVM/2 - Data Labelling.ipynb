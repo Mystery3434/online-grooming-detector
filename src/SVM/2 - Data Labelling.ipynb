{
 "cells": [
  {
   "cell_type": "markdown",
   "metadata": {},
   "source": [
    "### Data Labelling\n",
    "For the first stage SVM, the Suspicious Conversations Identification (SCI), we need labels of whether or not a conversation is suspicious. A suspicious conversation is defined as a conversation that contains at least one sexual predators. Since we are given the ids of all authors identified as sexual predators, we can write a new CSV file that tells us whether or not a conversation (identified by their id) is suspicious."
   ]
  },
  {
   "cell_type": "code",
   "execution_count": 7,
   "metadata": {},
   "outputs": [
    {
     "name": "stdout",
     "output_type": "stream",
     "text": [
      "Done!\n"
     ]
    }
   ],
   "source": [
    "import xml.etree.ElementTree as ET\n",
    "import csv\n",
    "\n",
    "train_data_path = '../../data/svm_training_data/'\n",
    "training_xml = ET.parse(train_data_path + 'training_data.xml')\n",
    "root = training_xml.getroot()\n",
    "\n",
    "pred_id_file = '../../data/pan12-sexual-predator-identification-training-corpus-2012-05-01/'\n",
    "file = open(pred_id_file + 'pan12-sexual-predator-identification-training-corpus-predators-2012-05-01.txt', 'r')\n",
    "predators_id = file.read().splitlines()\n",
    "# print(predators_id)\n",
    "\n",
    "csv_labels = []\n",
    "authors = []\n",
    "for conversation in root:\n",
    "    authors.clear()\n",
    "    \n",
    "    # find all unique authors in this conversation\n",
    "    for message in conversation:\n",
    "        author = message.find('author').text\n",
    "        if author not in authors:\n",
    "            authors.append(author)\n",
    "    suspicious = False\n",
    "    for author in authors:\n",
    "        if author in predators_id:\n",
    "            suspicious = True\n",
    "            \n",
    "    if suspicious:\n",
    "        csv_labels.append([conversation.get('id'), 1])\n",
    "    else:\n",
    "        csv_labels.append([conversation.get('id'), 0])\n",
    "\n",
    "# print(csv_labels)\n",
    "with open(train_data_path + 'sci_labels.csv', 'w', newline='') as f:\n",
    "    writer = csv.writer(f)\n",
    "    writer.writerows(csv_labels)\n",
    "print('Done!')"
   ]
  },
  {
   "cell_type": "code",
   "execution_count": null,
   "metadata": {},
   "outputs": [],
   "source": []
  }
 ],
 "metadata": {
  "kernelspec": {
   "display_name": "Python 3",
   "language": "python",
   "name": "python3"
  },
  "language_info": {
   "codemirror_mode": {
    "name": "ipython",
    "version": 3
   },
   "file_extension": ".py",
   "mimetype": "text/x-python",
   "name": "python",
   "nbconvert_exporter": "python",
   "pygments_lexer": "ipython3",
   "version": "3.6.3"
  }
 },
 "nbformat": 4,
 "nbformat_minor": 2
}
